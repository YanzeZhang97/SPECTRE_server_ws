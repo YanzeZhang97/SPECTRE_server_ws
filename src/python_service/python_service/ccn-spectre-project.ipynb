{
 "cells": [
  {
   "cell_type": "raw",
   "id": "175979d6",
   "metadata": {
    "_cell_guid": "b1076dfc-b9ad-4769-8c92-a6c4dae69d19",
    "_uuid": "8f2839f25d086af736a60e9eeb907d3b93b6e0e5",
    "papermill": {
     "duration": 0.006784,
     "end_time": "2024-10-28T22:06:24.761697",
     "exception": false,
     "start_time": "2024-10-28T22:06:24.754913",
     "status": "completed"
    },
    "tags": []
   },
   "source": [
    "# This Python 3 environment comes with many helpful analytics libraries installed\n",
    "# It is defined by the kaggle/python Docker image: https://github.com/kaggle/docker-python\n",
    "# For example, here's several helpful packages to load\n",
    "\n",
    "import numpy as np # linear algebra\n",
    "import pandas as pd # data processing, CSV file I/O (e.g. pd.read_csv)\n",
    "\n",
    "# Input data files are available in the read-only \"../input/\" directory\n",
    "# For example, running this (by clicking run or pressing Shift+Enter) will list all files under the input directory\n",
    "\n",
    "import os\n",
    "for dirname, _, filenames in os.walk('/kaggle/input'):\n",
    "    for filename in filenames:\n",
    "        print(os.path.join(dirname, filename))\n",
    "\n",
    "# You can write up to 20GB to the current directory (/kaggle/working/) that gets preserved as output when you create a version using \"Save & Run All\" \n",
    "# You can also write temporary files to /kaggle/temp/, but they won't be saved outside of the current session"
   ]
  },
  {
   "cell_type": "code",
   "execution_count": null,
   "id": "3490c12f",
   "metadata": {
    "papermill": {
     "duration": 0.005769,
     "end_time": "2024-10-28T22:06:24.773598",
     "exception": false,
     "start_time": "2024-10-28T22:06:24.767829",
     "status": "completed"
    },
    "tags": []
   },
   "outputs": [],
   "source": []
  },
  {
   "cell_type": "code",
   "execution_count": 1,
   "id": "69cb3e30",
   "metadata": {
    "execution": {
     "iopub.execute_input": "2024-10-28T22:06:24.787096Z",
     "iopub.status.busy": "2024-10-28T22:06:24.786767Z",
     "iopub.status.idle": "2024-10-28T22:06:43.413357Z",
     "shell.execute_reply": "2024-10-28T22:06:43.412238Z"
    },
    "papermill": {
     "duration": 18.636158,
     "end_time": "2024-10-28T22:06:43.415882",
     "exception": false,
     "start_time": "2024-10-28T22:06:24.779724",
     "status": "completed"
    },
    "tags": []
   },
   "outputs": [
    {
     "name": "stdout",
     "output_type": "stream",
     "text": [
      "Cloning into 'spectre'...\r\n",
      "remote: Enumerating objects: 368, done.\u001b[K\r\n",
      "remote: Counting objects: 100% (116/116), done.\u001b[K\r\n",
      "remote: Compressing objects: 100% (74/74), done.\u001b[K\r\n",
      "remote: Total 368 (delta 80), reused 75 (delta 42), pack-reused 252 (from 1)\u001b[K\r\n",
      "Receiving objects: 100% (368/368), 17.50 MiB | 42.86 MiB/s, done.\r\n",
      "Resolving deltas: 100% (204/204), done.\r\n",
      "Submodule 'external/Visual_Speech_Recognition_for_Multiple_Languages' (https://github.com/mpc001/Visual_Speech_Recognition_for_Multiple_Languages) registered for path 'external/Visual_Speech_Recognition_for_Multiple_Languages'\r\n",
      "Submodule 'external/av_hubert' (https://github.com/facebookresearch/av_hubert) registered for path 'external/av_hubert'\r\n",
      "Submodule 'external/face_alignment' (https://github.com/hhj1897/face_alignment.git) registered for path 'external/face_alignment'\r\n",
      "Submodule 'external/face_detection' (https://github.com/hhj1897/face_detection) registered for path 'external/face_detection'\r\n",
      "Cloning into '/kaggle/working/spectre/external/Visual_Speech_Recognition_for_Multiple_Languages'...\r\n",
      "remote: Enumerating objects: 277, done.        \r\n",
      "remote: Counting objects: 100% (26/26), done.        \r\n",
      "remote: Compressing objects: 100% (14/14), done.        \r\n",
      "remote: Total 277 (delta 14), reused 12 (delta 12), pack-reused 251 (from 1)        \r\n",
      "Receiving objects: 100% (277/277), 69.76 MiB | 23.01 MiB/s, done.\r\n",
      "Resolving deltas: 100% (69/69), done.\r\n",
      "Cloning into '/kaggle/working/spectre/external/av_hubert'...\r\n",
      "remote: Enumerating objects: 149, done.        \r\n",
      "remote: Counting objects: 100% (38/38), done.        \r\n",
      "remote: Compressing objects: 100% (24/24), done.        \r\n",
      "remote: Total 149 (delta 18), reused 20 (delta 14), pack-reused 111 (from 1)        \r\n",
      "Receiving objects: 100% (149/149), 4.65 MiB | 19.83 MiB/s, done.\r\n",
      "Resolving deltas: 100% (64/64), done.\r\n",
      "Cloning into '/kaggle/working/spectre/external/face_alignment'...\r\n",
      "remote: Enumerating objects: 190, done.        \r\n",
      "remote: Counting objects: 100% (32/32), done.        \r\n",
      "remote: Compressing objects: 100% (6/6), done.        \r\n",
      "remote: Total 190 (delta 27), reused 27 (delta 26), pack-reused 158 (from 1)        \r\n",
      "Receiving objects: 100% (190/190), 213.82 MiB | 31.40 MiB/s, done.\r\n",
      "Resolving deltas: 100% (84/84), done.\r\n",
      "Cloning into '/kaggle/working/spectre/external/face_detection'...\r\n",
      "remote: Enumerating objects: 300, done.        \r\n",
      "remote: Counting objects: 100% (50/50), done.        \r\n",
      "remote: Compressing objects: 100% (11/11), done.        \r\n",
      "remote: Total 300 (delta 41), reused 39 (delta 39), pack-reused 250 (from 1)        \r\n",
      "Receiving objects: 100% (300/300), 81.19 MiB | 23.82 MiB/s, done.\r\n",
      "Resolving deltas: 100% (141/141), done.\r\n",
      "Submodule path 'external/Visual_Speech_Recognition_for_Multiple_Languages': checked out '53e940ee3d4bab5e5a69276ac0a7a68047c5ab8d'\r\n",
      "Submodule path 'external/av_hubert': checked out 'cd1fd24e71b18f5c1a7203aec6ce4479a61e7e67'\r\n",
      "Submodule 'fairseq' (https://github.com/pytorch/fairseq) registered for path 'external/av_hubert/fairseq'\r\n",
      "Cloning into '/kaggle/working/spectre/external/av_hubert/fairseq'...\r\n",
      "remote: Enumerating objects: 35385, done.        \r\n",
      "remote: Counting objects: 100% (48/48), done.        \r\n",
      "remote: Compressing objects: 100% (36/36), done.        \r\n",
      "remote: Total 35385 (delta 10), reused 40 (delta 9), pack-reused 35337 (from 1)        \r\n",
      "Receiving objects: 100% (35385/35385), 25.47 MiB | 32.05 MiB/s, done.\r\n",
      "Resolving deltas: 100% (25538/25538), done.\r\n",
      "Submodule path 'external/av_hubert/fairseq': checked out 'afc77bdf4bb51453ce76f1572ef2ee6ddcda8eeb'\r\n",
      "Submodule 'fairseq/model_parallel/megatron' (https://github.com/ngoyal2707/Megatron-LM) registered for path 'external/av_hubert/fairseq/fairseq/model_parallel/megatron'\r\n",
      "Cloning into '/kaggle/working/spectre/external/av_hubert/fairseq/fairseq/model_parallel/megatron'...\r\n",
      "remote: Enumerating objects: 8394, done.        \r\n",
      "remote: Total 8394 (delta 0), reused 0 (delta 0), pack-reused 8394 (from 1)        \r\n",
      "Receiving objects: 100% (8394/8394), 2.92 MiB | 23.92 MiB/s, done.\r\n",
      "Resolving deltas: 100% (6335/6335), done.\r\n",
      "remote: Enumerating objects: 8, done.\u001b[K\r\n",
      "remote: Counting objects: 100% (6/6), done.\u001b[K\r\n",
      "remote: Total 8 (delta 6), reused 6 (delta 6), pack-reused 2 (from 1)\u001b[K\r\n",
      "Unpacking objects: 100% (8/8), 1.85 KiB | 946.00 KiB/s, done.\r\n",
      "From https://github.com/ngoyal2707/Megatron-LM\r\n",
      " * branch            adb23324c222aad0aad89308e70302d996a5eaeb -> FETCH_HEAD\r\n",
      "Submodule path 'external/av_hubert/fairseq/fairseq/model_parallel/megatron': checked out 'adb23324c222aad0aad89308e70302d996a5eaeb'\r\n",
      "Submodule path 'external/face_alignment': checked out '9cf5494e443f26d567972f3f50f6212d65b76c01'\r\n",
      "Submodule path 'external/face_detection': checked out '71852f00b815f568f3b51f045a418ae84cbe162a'\r\n"
     ]
    }
   ],
   "source": [
    "!git clone --recurse-submodules -j4 https://github.com/Niwant/spectre.git\n"
   ]
  },
  {
   "cell_type": "code",
   "execution_count": 2,
   "id": "d6f6e7e6",
   "metadata": {
    "execution": {
     "iopub.execute_input": "2024-10-28T22:06:43.447339Z",
     "iopub.status.busy": "2024-10-28T22:06:43.446960Z",
     "iopub.status.idle": "2024-10-28T22:06:43.454066Z",
     "shell.execute_reply": "2024-10-28T22:06:43.452999Z"
    },
    "papermill": {
     "duration": 0.024163,
     "end_time": "2024-10-28T22:06:43.456068",
     "exception": false,
     "start_time": "2024-10-28T22:06:43.431905",
     "status": "completed"
    },
    "tags": []
   },
   "outputs": [
    {
     "name": "stdout",
     "output_type": "stream",
     "text": [
      "/kaggle/working/spectre\n"
     ]
    }
   ],
   "source": [
    "cd /kaggle/working/spectre/"
   ]
  },
  {
   "cell_type": "code",
   "execution_count": 3,
   "id": "f120139d",
   "metadata": {
    "execution": {
     "iopub.execute_input": "2024-10-28T22:06:43.487195Z",
     "iopub.status.busy": "2024-10-28T22:06:43.486771Z",
     "iopub.status.idle": "2024-10-28T22:07:13.583026Z",
     "shell.execute_reply": "2024-10-28T22:07:13.582033Z"
    },
    "papermill": {
     "duration": 30.11505,
     "end_time": "2024-10-28T22:07:13.585270",
     "exception": false,
     "start_time": "2024-10-28T22:06:43.470220",
     "status": "completed"
    },
    "tags": []
   },
   "outputs": [
    {
     "name": "stdout",
     "output_type": "stream",
     "text": [
      "Requirement already satisfied: torch in /opt/conda/lib/python3.10/site-packages (2.4.0)\r\n",
      "Requirement already satisfied: torchvision in /opt/conda/lib/python3.10/site-packages (0.19.0)\r\n",
      "Requirement already satisfied: torchaudio in /opt/conda/lib/python3.10/site-packages (2.4.0)\r\n",
      "Requirement already satisfied: filelock in /opt/conda/lib/python3.10/site-packages (from torch) (3.15.1)\r\n",
      "Requirement already satisfied: typing-extensions>=4.8.0 in /opt/conda/lib/python3.10/site-packages (from torch) (4.12.2)\r\n",
      "Requirement already satisfied: sympy in /opt/conda/lib/python3.10/site-packages (from torch) (1.13.3)\r\n",
      "Requirement already satisfied: networkx in /opt/conda/lib/python3.10/site-packages (from torch) (3.3)\r\n",
      "Requirement already satisfied: jinja2 in /opt/conda/lib/python3.10/site-packages (from torch) (3.1.4)\r\n",
      "Requirement already satisfied: fsspec in /opt/conda/lib/python3.10/site-packages (from torch) (2024.6.1)\r\n",
      "Requirement already satisfied: numpy in /opt/conda/lib/python3.10/site-packages (from torchvision) (1.26.4)\r\n",
      "Requirement already satisfied: pillow!=8.3.*,>=5.3.0 in /opt/conda/lib/python3.10/site-packages (from torchvision) (10.3.0)\r\n",
      "Requirement already satisfied: MarkupSafe>=2.0 in /opt/conda/lib/python3.10/site-packages (from jinja2->torch) (2.1.5)\r\n",
      "Requirement already satisfied: mpmath<1.4,>=1.1.0 in /opt/conda/lib/python3.10/site-packages (from sympy->torch) (1.3.0)\r\n",
      "Collecting fvcore\r\n",
      "  Downloading fvcore-0.1.5.post20221221.tar.gz (50 kB)\r\n",
      "\u001b[2K     \u001b[90m━━━━━━━━━━━━━━━━━━━━━━━━━━━━━━━━━━━━━━━━\u001b[0m \u001b[32m50.2/50.2 kB\u001b[0m \u001b[31m1.9 MB/s\u001b[0m eta \u001b[36m0:00:00\u001b[0m\r\n",
      "\u001b[?25h  Preparing metadata (setup.py) ... \u001b[?25l-\b \bdone\r\n",
      "\u001b[?25hCollecting iopath\r\n",
      "  Downloading iopath-0.1.10.tar.gz (42 kB)\r\n",
      "\u001b[2K     \u001b[90m━━━━━━━━━━━━━━━━━━━━━━━━━━━━━━━━━━━━━━━━\u001b[0m \u001b[32m42.2/42.2 kB\u001b[0m \u001b[31m2.6 MB/s\u001b[0m eta \u001b[36m0:00:00\u001b[0m\r\n",
      "\u001b[?25h  Preparing metadata (setup.py) ... \u001b[?25l-\b \bdone\r\n",
      "\u001b[?25hRequirement already satisfied: numpy in /opt/conda/lib/python3.10/site-packages (from fvcore) (1.26.4)\r\n",
      "Collecting yacs>=0.1.6 (from fvcore)\r\n",
      "  Downloading yacs-0.1.8-py3-none-any.whl.metadata (639 bytes)\r\n",
      "Requirement already satisfied: pyyaml>=5.1 in /opt/conda/lib/python3.10/site-packages (from fvcore) (6.0.2)\r\n",
      "Requirement already satisfied: tqdm in /opt/conda/lib/python3.10/site-packages (from fvcore) (4.66.4)\r\n",
      "Requirement already satisfied: termcolor>=1.1 in /opt/conda/lib/python3.10/site-packages (from fvcore) (2.4.0)\r\n",
      "Requirement already satisfied: Pillow in /opt/conda/lib/python3.10/site-packages (from fvcore) (10.3.0)\r\n",
      "Requirement already satisfied: tabulate in /opt/conda/lib/python3.10/site-packages (from fvcore) (0.9.0)\r\n",
      "Requirement already satisfied: typing_extensions in /opt/conda/lib/python3.10/site-packages (from iopath) (4.12.2)\r\n",
      "Collecting portalocker (from iopath)\r\n",
      "  Downloading portalocker-2.10.1-py3-none-any.whl.metadata (8.5 kB)\r\n",
      "Downloading yacs-0.1.8-py3-none-any.whl (14 kB)\r\n",
      "Downloading portalocker-2.10.1-py3-none-any.whl (18 kB)\r\n",
      "Building wheels for collected packages: fvcore, iopath\r\n",
      "  Building wheel for fvcore (setup.py) ... \u001b[?25l-\b \b\\\b \bdone\r\n",
      "\u001b[?25h  Created wheel for fvcore: filename=fvcore-0.1.5.post20221221-py3-none-any.whl size=61400 sha256=1991c1eb46d0737e3b2eec4157a1c298b69745f40c5ee3dfb8b6b8640100b5c1\r\n",
      "  Stored in directory: /root/.cache/pip/wheels/01/c0/af/77c1cf53a1be9e42a52b48e5af2169d40ec2e89f7362489dd0\r\n",
      "  Building wheel for iopath (setup.py) ... \u001b[?25l-\b \b\\\b \bdone\r\n",
      "\u001b[?25h  Created wheel for iopath: filename=iopath-0.1.10-py3-none-any.whl size=31532 sha256=4819a6bb15f6ad07f3df7eb061422b8301f873f3b25f9e97f71ed32473ab5300\r\n",
      "  Stored in directory: /root/.cache/pip/wheels/9a/a3/b6/ac0fcd1b4ed5cfeb3db92e6a0e476cfd48ed0df92b91080c1d\r\n",
      "Successfully built fvcore iopath\r\n",
      "Installing collected packages: yacs, portalocker, iopath, fvcore\r\n",
      "Successfully installed fvcore-0.1.5.post20221221 iopath-0.1.10 portalocker-2.10.1 yacs-0.1.8\r\n"
     ]
    }
   ],
   "source": [
    "!pip install torch torchvision torchaudio \n",
    "!pip install fvcore iopath\n"
   ]
  },
  {
   "cell_type": "code",
   "execution_count": 4,
   "id": "273cee32",
   "metadata": {
    "execution": {
     "iopub.execute_input": "2024-10-28T22:07:13.618390Z",
     "iopub.status.busy": "2024-10-28T22:07:13.618061Z",
     "iopub.status.idle": "2024-10-28T22:18:17.592161Z",
     "shell.execute_reply": "2024-10-28T22:18:17.590857Z"
    },
    "papermill": {
     "duration": 663.993009,
     "end_time": "2024-10-28T22:18:17.594356",
     "exception": false,
     "start_time": "2024-10-28T22:07:13.601347",
     "status": "completed"
    },
    "tags": []
   },
   "outputs": [
    {
     "name": "stdout",
     "output_type": "stream",
     "text": [
      "Collecting git+https://github.com/facebookresearch/pytorch3d.git\r\n",
      "  Cloning https://github.com/facebookresearch/pytorch3d.git to /tmp/pip-req-build-pvae2ay9\r\n",
      "  Running command git clone --filter=blob:none --quiet https://github.com/facebookresearch/pytorch3d.git /tmp/pip-req-build-pvae2ay9\r\n",
      "  Resolved https://github.com/facebookresearch/pytorch3d.git to commit e13848265d9d57927fca99d13061e8fba8d468d0\r\n",
      "  Preparing metadata (setup.py) ... \u001b[?25l-\b \bdone\r\n",
      "\u001b[?25hRequirement already satisfied: iopath in /opt/conda/lib/python3.10/site-packages (from pytorch3d==0.7.8) (0.1.10)\r\n",
      "Requirement already satisfied: tqdm in /opt/conda/lib/python3.10/site-packages (from iopath->pytorch3d==0.7.8) (4.66.4)\r\n",
      "Requirement already satisfied: typing-extensions in /opt/conda/lib/python3.10/site-packages (from iopath->pytorch3d==0.7.8) (4.12.2)\r\n",
      "Requirement already satisfied: portalocker in /opt/conda/lib/python3.10/site-packages (from iopath->pytorch3d==0.7.8) (2.10.1)\r\n",
      "Building wheels for collected packages: pytorch3d\r\n",
      "  Building wheel for pytorch3d (setup.py) ... \u001b[?25l-\b \b\\\b \b|\b \b/\b \b-\b \b\\\b \b|\b \b/\b \b-\b \b\\\b \b|\b \b/\b \b-\b \b\\\b \b|\b \b/\b \b-\b \b\\\b \b|\b \b/\b \b-\b \b\\\b \b|\b \b/\b \b-\b \b\\\b \b|\b \b/\b \b-\b \b\\\b \b|\b \b/\b \b-\b \b\\\b \b|\b \b/\b \b-\b \b\\\b \b|\b \b/\b \b-\b \b\\\b \b|\b \b/\b \b-\b \b\\\b \b|\b \b/\b \b-\b \b\\\b \b|\b \b/\b \b-\b \b\\\b \b|\b \b/\b \b-\b \b\\\b \b|\b \b/\b \b-\b \b\\\b \b|\b \b/\b \b-\b \b\\\b \b|\b \b/\b \b-\b \b\\\b \bdone\r\n",
      "\u001b[?25h  Created wheel for pytorch3d: filename=pytorch3d-0.7.8-cp310-cp310-linux_x86_64.whl size=6520883 sha256=fc8eb7c1375e85590a34eec9d14a738cf244d048a668691743b8781f1c82daca\r\n",
      "  Stored in directory: /tmp/pip-ephem-wheel-cache-74s2pyvs/wheels/dd/74/cc/b9266c863f19026f796e59a04e1cd9eb3754474a52ce1b66ce\r\n",
      "Successfully built pytorch3d\r\n",
      "Installing collected packages: pytorch3d\r\n",
      "Successfully installed pytorch3d-0.7.8\r\n",
      "Note: you may need to restart the kernel to use updated packages.\n"
     ]
    }
   ],
   "source": [
    "pip install \"git+https://github.com/facebookresearch/pytorch3d.git\""
   ]
  },
  {
   "cell_type": "code",
   "execution_count": 5,
   "id": "28dd76ae",
   "metadata": {
    "execution": {
     "iopub.execute_input": "2024-10-28T22:18:17.638858Z",
     "iopub.status.busy": "2024-10-28T22:18:17.638503Z",
     "iopub.status.idle": "2024-10-28T22:18:18.665812Z",
     "shell.execute_reply": "2024-10-28T22:18:18.664587Z"
    },
    "papermill": {
     "duration": 1.052443,
     "end_time": "2024-10-28T22:18:18.668401",
     "exception": false,
     "start_time": "2024-10-28T22:18:17.615958",
     "status": "completed"
    },
    "tags": []
   },
   "outputs": [
    {
     "name": "stdout",
     "output_type": "stream",
     "text": [
      "total 1428\r\n",
      "drwxr-xr-x 10 root root    4096 Oct 28 22:06 \u001b[0m\u001b[01;34m.\u001b[0m/\r\n",
      "drwxr-xr-x  3 root root    4096 Oct 28 22:06 \u001b[01;34m..\u001b[0m/\r\n",
      "drwxr-xr-x  9 root root    4096 Oct 28 22:06 \u001b[01;34m.git\u001b[0m/\r\n",
      "-rw-r--r--  1 root root     669 Oct 28 22:06 .gitignore\r\n",
      "-rw-r--r--  1 root root     575 Oct 28 22:06 .gitmodules\r\n",
      "-rw-r--r--  1 root root   20849 Oct 28 22:06 LICENSE\r\n",
      "-rw-r--r--  1 root root    5850 Oct 28 22:06 README.md\r\n",
      "-rw-r--r--  1 root root       0 Oct 28 22:06 __init__.py\r\n",
      "-rw-r--r--  1 root root   11633 Oct 28 22:06 ccn-spectre-project.ipynb\r\n",
      "-rw-r--r--  1 root root    6976 Oct 28 22:06 config.py\r\n",
      "drwxr-xr-x  2 root root    4096 Oct 28 22:06 \u001b[01;34mconfigs\u001b[0m/\r\n",
      "-rw-r--r--  1 root root 1321519 Oct 28 22:06 cover.png\r\n",
      "drwxr-xr-x  2 root root    4096 Oct 28 22:06 \u001b[01;34mdata\u001b[0m/\r\n",
      "drwxr-xr-x  2 root root    4096 Oct 28 22:06 \u001b[01;34mdatasets\u001b[0m/\r\n",
      "-rw-r--r--  1 root root   18234 Oct 28 22:06 demo.py\r\n",
      "drwxr-xr-x  6 root root    4096 Oct 28 22:06 \u001b[01;34mexternal\u001b[0m/\r\n",
      "-rw-r--r--  1 root root    1878 Oct 28 22:06 get_training_data.sh\r\n",
      "-rw-r--r--  1 root root    1172 Oct 28 22:06 main.py\r\n",
      "-rw-r--r--  1 root root     937 Oct 28 22:06 quick_install.sh\r\n",
      "-rw-r--r--  1 root root     183 Oct 28 22:06 requirements.txt\r\n",
      "drwxr-xr-x  5 root root    4096 Oct 28 22:06 \u001b[01;34msamples\u001b[0m/\r\n",
      "drwxr-xr-x  4 root root    4096 Oct 28 22:06 \u001b[01;34msrc\u001b[0m/\r\n",
      "drwxr-xr-x  2 root root    4096 Oct 28 22:06 \u001b[01;34mutils\u001b[0m/\r\n"
     ]
    }
   ],
   "source": [
    "ls -la"
   ]
  },
  {
   "cell_type": "code",
   "execution_count": 6,
   "id": "c41eabe4",
   "metadata": {
    "execution": {
     "iopub.execute_input": "2024-10-28T22:18:18.714553Z",
     "iopub.status.busy": "2024-10-28T22:18:18.713689Z",
     "iopub.status.idle": "2024-10-28T22:18:41.247695Z",
     "shell.execute_reply": "2024-10-28T22:18:41.246427Z"
    },
    "papermill": {
     "duration": 22.55917,
     "end_time": "2024-10-28T22:18:41.249762",
     "exception": false,
     "start_time": "2024-10-28T22:18:18.690592",
     "status": "completed"
    },
    "tags": []
   },
   "outputs": [
    {
     "name": "stdout",
     "output_type": "stream",
     "text": [
      "Requirement already satisfied: scikit_image in /opt/conda/lib/python3.10/site-packages (0.23.2)\r\n",
      "Requirement already satisfied: kornia in /opt/conda/lib/python3.10/site-packages (0.7.3)\r\n",
      "Collecting chumpy\r\n",
      "  Downloading chumpy-0.70.tar.gz (50 kB)\r\n",
      "\u001b[2K     \u001b[90m━━━━━━━━━━━━━━━━━━━━━━━━━━━━━━━━━━━━━━━━\u001b[0m \u001b[32m50.6/50.6 kB\u001b[0m \u001b[31m2.0 MB/s\u001b[0m eta \u001b[36m0:00:00\u001b[0m\r\n",
      "\u001b[?25h  Preparing metadata (setup.py) ... \u001b[?25l-\b \bdone\r\n",
      "\u001b[?25hRequirement already satisfied: librosa in /opt/conda/lib/python3.10/site-packages (0.10.2.post1)\r\n",
      "Collecting av\r\n",
      "  Downloading av-13.1.0-cp310-cp310-manylinux_2_17_x86_64.manylinux2014_x86_64.whl.metadata (4.4 kB)\r\n",
      "Collecting loguru\r\n",
      "  Downloading loguru-0.7.2-py3-none-any.whl.metadata (23 kB)\r\n",
      "Requirement already satisfied: tensorboard in /opt/conda/lib/python3.10/site-packages (2.16.2)\r\n",
      "Requirement already satisfied: pytorch_lightning in /opt/conda/lib/python3.10/site-packages (2.4.0)\r\n",
      "Requirement already satisfied: opencv-python in /opt/conda/lib/python3.10/site-packages (4.10.0.84)\r\n",
      "Collecting phonemizer\r\n",
      "  Downloading phonemizer-3.3.0-py3-none-any.whl.metadata (48 kB)\r\n",
      "\u001b[2K     \u001b[90m━━━━━━━━━━━━━━━━━━━━━━━━━━━━━━━━━━━━━━━━\u001b[0m \u001b[32m48.2/48.2 kB\u001b[0m \u001b[31m2.8 MB/s\u001b[0m eta \u001b[36m0:00:00\u001b[0m\r\n",
      "\u001b[?25hCollecting jiwer\r\n",
      "  Downloading jiwer-3.0.4-py3-none-any.whl.metadata (2.6 kB)\r\n",
      "Requirement already satisfied: numpy>=1.23 in /opt/conda/lib/python3.10/site-packages (from scikit_image) (1.26.4)\r\n",
      "Requirement already satisfied: scipy>=1.9 in /opt/conda/lib/python3.10/site-packages (from scikit_image) (1.14.1)\r\n",
      "Requirement already satisfied: networkx>=2.8 in /opt/conda/lib/python3.10/site-packages (from scikit_image) (3.3)\r\n",
      "Requirement already satisfied: pillow>=9.1 in /opt/conda/lib/python3.10/site-packages (from scikit_image) (10.3.0)\r\n",
      "Requirement already satisfied: imageio>=2.33 in /opt/conda/lib/python3.10/site-packages (from scikit_image) (2.34.1)\r\n",
      "Requirement already satisfied: tifffile>=2022.8.12 in /opt/conda/lib/python3.10/site-packages (from scikit_image) (2024.5.22)\r\n",
      "Requirement already satisfied: packaging>=21 in /opt/conda/lib/python3.10/site-packages (from scikit_image) (21.3)\r\n",
      "Requirement already satisfied: lazy-loader>=0.4 in /opt/conda/lib/python3.10/site-packages (from scikit_image) (0.4)\r\n",
      "Requirement already satisfied: kornia-rs>=0.1.0 in /opt/conda/lib/python3.10/site-packages (from kornia) (0.1.5)\r\n",
      "Requirement already satisfied: torch>=1.9.1 in /opt/conda/lib/python3.10/site-packages (from kornia) (2.4.0)\r\n",
      "Requirement already satisfied: six>=1.11.0 in /opt/conda/lib/python3.10/site-packages (from chumpy) (1.16.0)\r\n",
      "Requirement already satisfied: audioread>=2.1.9 in /opt/conda/lib/python3.10/site-packages (from librosa) (3.0.1)\r\n",
      "Requirement already satisfied: scikit-learn>=0.20.0 in /opt/conda/lib/python3.10/site-packages (from librosa) (1.2.2)\r\n",
      "Requirement already satisfied: joblib>=0.14 in /opt/conda/lib/python3.10/site-packages (from librosa) (1.4.2)\r\n",
      "Requirement already satisfied: decorator>=4.3.0 in /opt/conda/lib/python3.10/site-packages (from librosa) (5.1.1)\r\n",
      "Requirement already satisfied: numba>=0.51.0 in /opt/conda/lib/python3.10/site-packages (from librosa) (0.60.0)\r\n",
      "Requirement already satisfied: soundfile>=0.12.1 in /opt/conda/lib/python3.10/site-packages (from librosa) (0.12.1)\r\n",
      "Requirement already satisfied: pooch>=1.1 in /opt/conda/lib/python3.10/site-packages (from librosa) (1.8.2)\r\n",
      "Requirement already satisfied: soxr>=0.3.2 in /opt/conda/lib/python3.10/site-packages (from librosa) (0.5.0.post1)\r\n",
      "Requirement already satisfied: typing-extensions>=4.1.1 in /opt/conda/lib/python3.10/site-packages (from librosa) (4.12.2)\r\n",
      "Requirement already satisfied: msgpack>=1.0 in /opt/conda/lib/python3.10/site-packages (from librosa) (1.0.8)\r\n",
      "Requirement already satisfied: absl-py>=0.4 in /opt/conda/lib/python3.10/site-packages (from tensorboard) (1.4.0)\r\n",
      "Requirement already satisfied: grpcio>=1.48.2 in /opt/conda/lib/python3.10/site-packages (from tensorboard) (1.62.2)\r\n",
      "Requirement already satisfied: markdown>=2.6.8 in /opt/conda/lib/python3.10/site-packages (from tensorboard) (3.6)\r\n",
      "Requirement already satisfied: protobuf!=4.24.0,>=3.19.6 in /opt/conda/lib/python3.10/site-packages (from tensorboard) (3.20.3)\r\n",
      "Requirement already satisfied: setuptools>=41.0.0 in /opt/conda/lib/python3.10/site-packages (from tensorboard) (70.0.0)\r\n",
      "Requirement already satisfied: tensorboard-data-server<0.8.0,>=0.7.0 in /opt/conda/lib/python3.10/site-packages (from tensorboard) (0.7.2)\r\n",
      "Requirement already satisfied: werkzeug>=1.0.1 in /opt/conda/lib/python3.10/site-packages (from tensorboard) (3.0.4)\r\n",
      "Requirement already satisfied: tqdm>=4.57.0 in /opt/conda/lib/python3.10/site-packages (from pytorch_lightning) (4.66.4)\r\n",
      "Requirement already satisfied: PyYAML>=5.4 in /opt/conda/lib/python3.10/site-packages (from pytorch_lightning) (6.0.2)\r\n",
      "Requirement already satisfied: fsspec>=2022.5.0 in /opt/conda/lib/python3.10/site-packages (from fsspec[http]>=2022.5.0->pytorch_lightning) (2024.6.1)\r\n",
      "Requirement already satisfied: torchmetrics>=0.7.0 in /opt/conda/lib/python3.10/site-packages (from pytorch_lightning) (1.4.2)\r\n",
      "Requirement already satisfied: lightning-utilities>=0.10.0 in /opt/conda/lib/python3.10/site-packages (from pytorch_lightning) (0.11.7)\r\n",
      "Collecting segments (from phonemizer)\r\n",
      "  Downloading segments-2.2.1-py2.py3-none-any.whl.metadata (3.3 kB)\r\n",
      "Requirement already satisfied: attrs>=18.1 in /opt/conda/lib/python3.10/site-packages (from phonemizer) (23.2.0)\r\n",
      "Collecting dlinfo (from phonemizer)\r\n",
      "  Downloading dlinfo-1.2.1-py3-none-any.whl.metadata (1.1 kB)\r\n",
      "Requirement already satisfied: click<9.0.0,>=8.1.3 in /opt/conda/lib/python3.10/site-packages (from jiwer) (8.1.7)\r\n",
      "Collecting rapidfuzz<4,>=3 (from jiwer)\r\n",
      "  Downloading rapidfuzz-3.10.1-cp310-cp310-manylinux_2_17_x86_64.manylinux2014_x86_64.whl.metadata (11 kB)\r\n",
      "Requirement already satisfied: aiohttp!=4.0.0a0,!=4.0.0a1 in /opt/conda/lib/python3.10/site-packages (from fsspec[http]>=2022.5.0->pytorch_lightning) (3.9.5)\r\n",
      "Requirement already satisfied: llvmlite<0.44,>=0.43.0dev0 in /opt/conda/lib/python3.10/site-packages (from numba>=0.51.0->librosa) (0.43.0)\r\n",
      "Requirement already satisfied: pyparsing!=3.0.5,>=2.0.2 in /opt/conda/lib/python3.10/site-packages (from packaging>=21->scikit_image) (3.1.2)\r\n",
      "Requirement already satisfied: platformdirs>=2.5.0 in /opt/conda/lib/python3.10/site-packages (from pooch>=1.1->librosa) (3.11.0)\r\n",
      "Requirement already satisfied: requests>=2.19.0 in /opt/conda/lib/python3.10/site-packages (from pooch>=1.1->librosa) (2.32.3)\r\n",
      "Requirement already satisfied: threadpoolctl>=2.0.0 in /opt/conda/lib/python3.10/site-packages (from scikit-learn>=0.20.0->librosa) (3.5.0)\r\n",
      "Requirement already satisfied: cffi>=1.0 in /opt/conda/lib/python3.10/site-packages (from soundfile>=0.12.1->librosa) (1.16.0)\r\n",
      "Requirement already satisfied: filelock in /opt/conda/lib/python3.10/site-packages (from torch>=1.9.1->kornia) (3.15.1)\r\n",
      "Requirement already satisfied: sympy in /opt/conda/lib/python3.10/site-packages (from torch>=1.9.1->kornia) (1.13.3)\r\n",
      "Requirement already satisfied: jinja2 in /opt/conda/lib/python3.10/site-packages (from torch>=1.9.1->kornia) (3.1.4)\r\n",
      "Requirement already satisfied: MarkupSafe>=2.1.1 in /opt/conda/lib/python3.10/site-packages (from werkzeug>=1.0.1->tensorboard) (2.1.5)\r\n",
      "Collecting clldutils>=1.7.3 (from segments->phonemizer)\r\n",
      "  Downloading clldutils-3.23.1-py2.py3-none-any.whl.metadata (3.0 kB)\r\n",
      "Collecting csvw>=1.5.6 (from segments->phonemizer)\r\n",
      "  Downloading csvw-3.5.1-py2.py3-none-any.whl.metadata (10 kB)\r\n",
      "Requirement already satisfied: regex in /opt/conda/lib/python3.10/site-packages (from segments->phonemizer) (2024.5.15)\r\n",
      "Requirement already satisfied: aiosignal>=1.1.2 in /opt/conda/lib/python3.10/site-packages (from aiohttp!=4.0.0a0,!=4.0.0a1->fsspec[http]>=2022.5.0->pytorch_lightning) (1.3.1)\r\n",
      "Requirement already satisfied: frozenlist>=1.1.1 in /opt/conda/lib/python3.10/site-packages (from aiohttp!=4.0.0a0,!=4.0.0a1->fsspec[http]>=2022.5.0->pytorch_lightning) (1.4.1)\r\n",
      "Requirement already satisfied: multidict<7.0,>=4.5 in /opt/conda/lib/python3.10/site-packages (from aiohttp!=4.0.0a0,!=4.0.0a1->fsspec[http]>=2022.5.0->pytorch_lightning) (6.0.5)\r\n",
      "Requirement already satisfied: yarl<2.0,>=1.0 in /opt/conda/lib/python3.10/site-packages (from aiohttp!=4.0.0a0,!=4.0.0a1->fsspec[http]>=2022.5.0->pytorch_lightning) (1.9.4)\r\n",
      "Requirement already satisfied: async-timeout<5.0,>=4.0 in /opt/conda/lib/python3.10/site-packages (from aiohttp!=4.0.0a0,!=4.0.0a1->fsspec[http]>=2022.5.0->pytorch_lightning) (4.0.3)\r\n",
      "Requirement already satisfied: pycparser in /opt/conda/lib/python3.10/site-packages (from cffi>=1.0->soundfile>=0.12.1->librosa) (2.22)\r\n",
      "Requirement already satisfied: python-dateutil in /opt/conda/lib/python3.10/site-packages (from clldutils>=1.7.3->segments->phonemizer) (2.9.0.post0)\r\n",
      "Requirement already satisfied: tabulate>=0.7.7 in /opt/conda/lib/python3.10/site-packages (from clldutils>=1.7.3->segments->phonemizer) (0.9.0)\r\n",
      "Requirement already satisfied: colorlog in /opt/conda/lib/python3.10/site-packages (from clldutils>=1.7.3->segments->phonemizer) (6.8.2)\r\n",
      "Collecting bibtexparser>=2.0.0b4 (from clldutils>=1.7.3->segments->phonemizer)\r\n",
      "  Downloading bibtexparser-2.0.0b7-py3-none-any.whl.metadata (5.6 kB)\r\n",
      "Collecting pylatexenc (from clldutils>=1.7.3->segments->phonemizer)\r\n",
      "  Downloading pylatexenc-2.10.tar.gz (162 kB)\r\n",
      "\u001b[2K     \u001b[90m━━━━━━━━━━━━━━━━━━━━━━━━━━━━━━━━━━━━━━━\u001b[0m \u001b[32m162.6/162.6 kB\u001b[0m \u001b[31m7.6 MB/s\u001b[0m eta \u001b[36m0:00:00\u001b[0m\r\n",
      "\u001b[?25h  Preparing metadata (setup.py) ... \u001b[?25l-\b \bdone\r\n",
      "\u001b[?25hRequirement already satisfied: lxml in /opt/conda/lib/python3.10/site-packages (from clldutils>=1.7.3->segments->phonemizer) (5.3.0)\r\n",
      "Collecting isodate (from csvw>=1.5.6->segments->phonemizer)\r\n",
      "  Downloading isodate-0.7.2-py3-none-any.whl.metadata (11 kB)\r\n",
      "Collecting rfc3986<2 (from csvw>=1.5.6->segments->phonemizer)\r\n",
      "  Downloading rfc3986-1.5.0-py2.py3-none-any.whl.metadata (6.5 kB)\r\n",
      "Requirement already satisfied: uritemplate>=3.0.0 in /opt/conda/lib/python3.10/site-packages (from csvw>=1.5.6->segments->phonemizer) (3.0.1)\r\n",
      "Requirement already satisfied: babel in /opt/conda/lib/python3.10/site-packages (from csvw>=1.5.6->segments->phonemizer) (2.15.0)\r\n",
      "Collecting language-tags (from csvw>=1.5.6->segments->phonemizer)\r\n",
      "  Downloading language_tags-1.2.0-py3-none-any.whl.metadata (2.1 kB)\r\n",
      "Collecting rdflib (from csvw>=1.5.6->segments->phonemizer)\r\n",
      "  Downloading rdflib-7.1.1-py3-none-any.whl.metadata (11 kB)\r\n",
      "Requirement already satisfied: colorama in /opt/conda/lib/python3.10/site-packages (from csvw>=1.5.6->segments->phonemizer) (0.4.6)\r\n",
      "Requirement already satisfied: jsonschema in /opt/conda/lib/python3.10/site-packages (from csvw>=1.5.6->segments->phonemizer) (4.22.0)\r\n",
      "Requirement already satisfied: charset-normalizer<4,>=2 in /opt/conda/lib/python3.10/site-packages (from requests>=2.19.0->pooch>=1.1->librosa) (3.3.2)\r\n",
      "Requirement already satisfied: idna<4,>=2.5 in /opt/conda/lib/python3.10/site-packages (from requests>=2.19.0->pooch>=1.1->librosa) (3.7)\r\n",
      "Requirement already satisfied: urllib3<3,>=1.21.1 in /opt/conda/lib/python3.10/site-packages (from requests>=2.19.0->pooch>=1.1->librosa) (1.26.18)\r\n",
      "Requirement already satisfied: certifi>=2017.4.17 in /opt/conda/lib/python3.10/site-packages (from requests>=2.19.0->pooch>=1.1->librosa) (2024.8.30)\r\n",
      "Requirement already satisfied: mpmath<1.4,>=1.1.0 in /opt/conda/lib/python3.10/site-packages (from sympy->torch>=1.9.1->kornia) (1.3.0)\r\n",
      "Requirement already satisfied: jsonschema-specifications>=2023.03.6 in /opt/conda/lib/python3.10/site-packages (from jsonschema->csvw>=1.5.6->segments->phonemizer) (2023.12.1)\r\n",
      "Requirement already satisfied: referencing>=0.28.4 in /opt/conda/lib/python3.10/site-packages (from jsonschema->csvw>=1.5.6->segments->phonemizer) (0.35.1)\r\n",
      "Requirement already satisfied: rpds-py>=0.7.1 in /opt/conda/lib/python3.10/site-packages (from jsonschema->csvw>=1.5.6->segments->phonemizer) (0.18.1)\r\n",
      "Downloading av-13.1.0-cp310-cp310-manylinux_2_17_x86_64.manylinux2014_x86_64.whl (33.1 MB)\r\n",
      "\u001b[2K   \u001b[90m━━━━━━━━━━━━━━━━━━━━━━━━━━━━━━━━━━━━━━━━\u001b[0m \u001b[32m33.1/33.1 MB\u001b[0m \u001b[31m54.5 MB/s\u001b[0m eta \u001b[36m0:00:00\u001b[0m\r\n",
      "\u001b[?25hDownloading loguru-0.7.2-py3-none-any.whl (62 kB)\r\n",
      "\u001b[2K   \u001b[90m━━━━━━━━━━━━━━━━━━━━━━━━━━━━━━━━━━━━━━━━\u001b[0m \u001b[32m62.5/62.5 kB\u001b[0m \u001b[31m4.3 MB/s\u001b[0m eta \u001b[36m0:00:00\u001b[0m\r\n",
      "\u001b[?25hDownloading phonemizer-3.3.0-py3-none-any.whl (103 kB)\r\n",
      "\u001b[2K   \u001b[90m━━━━━━━━━━━━━━━━━━━━━━━━━━━━━━━━━━━━━━━━\u001b[0m \u001b[32m103.8/103.8 kB\u001b[0m \u001b[31m6.5 MB/s\u001b[0m eta \u001b[36m0:00:00\u001b[0m\r\n",
      "\u001b[?25hDownloading jiwer-3.0.4-py3-none-any.whl (21 kB)\r\n",
      "Downloading rapidfuzz-3.10.1-cp310-cp310-manylinux_2_17_x86_64.manylinux2014_x86_64.whl (3.1 MB)\r\n",
      "\u001b[2K   \u001b[90m━━━━━━━━━━━━━━━━━━━━━━━━━━━━━━━━━━━━━━━━\u001b[0m \u001b[32m3.1/3.1 MB\u001b[0m \u001b[31m68.4 MB/s\u001b[0m eta \u001b[36m0:00:00\u001b[0m\r\n",
      "\u001b[?25hDownloading dlinfo-1.2.1-py3-none-any.whl (3.6 kB)\r\n",
      "Downloading segments-2.2.1-py2.py3-none-any.whl (15 kB)\r\n",
      "Downloading clldutils-3.23.1-py2.py3-none-any.whl (1.7 MB)\r\n",
      "\u001b[2K   \u001b[90m━━━━━━━━━━━━━━━━━━━━━━━━━━━━━━━━━━━━━━━━\u001b[0m \u001b[32m1.7/1.7 MB\u001b[0m \u001b[31m39.6 MB/s\u001b[0m eta \u001b[36m0:00:00\u001b[0m\r\n",
      "\u001b[?25hDownloading csvw-3.5.1-py2.py3-none-any.whl (59 kB)\r\n",
      "\u001b[2K   \u001b[90m━━━━━━━━━━━━━━━━━━━━━━━━━━━━━━━━━━━━━━━━\u001b[0m \u001b[32m59.9/59.9 kB\u001b[0m \u001b[31m3.4 MB/s\u001b[0m eta \u001b[36m0:00:00\u001b[0m\r\n",
      "\u001b[?25hDownloading bibtexparser-2.0.0b7-py3-none-any.whl (38 kB)\r\n",
      "Downloading rfc3986-1.5.0-py2.py3-none-any.whl (31 kB)\r\n",
      "Downloading isodate-0.7.2-py3-none-any.whl (22 kB)\r\n",
      "Downloading language_tags-1.2.0-py3-none-any.whl (213 kB)\r\n",
      "\u001b[2K   \u001b[90m━━━━━━━━━━━━━━━━━━━━━━━━━━━━━━━━━━━━━━━━\u001b[0m \u001b[32m213.4/213.4 kB\u001b[0m \u001b[31m12.5 MB/s\u001b[0m eta \u001b[36m0:00:00\u001b[0m\r\n",
      "\u001b[?25hDownloading rdflib-7.1.1-py3-none-any.whl (562 kB)\r\n",
      "\u001b[2K   \u001b[90m━━━━━━━━━━━━━━━━━━━━━━━━━━━━━━━━━━━━━━━━\u001b[0m \u001b[32m562.4/562.4 kB\u001b[0m \u001b[31m30.5 MB/s\u001b[0m eta \u001b[36m0:00:00\u001b[0m\r\n",
      "\u001b[?25hBuilding wheels for collected packages: chumpy, pylatexenc\r\n",
      "  Building wheel for chumpy (setup.py) ... \u001b[?25l-\b \b\\\b \bdone\r\n",
      "\u001b[?25h  Created wheel for chumpy: filename=chumpy-0.70-py3-none-any.whl size=58263 sha256=c341b0ebd93725be2792f90d19cae917bb02d2af7885e3d59f5a179c562e7022\r\n",
      "  Stored in directory: /root/.cache/pip/wheels/e0/c1/ef/29ba7be03653a29ef6f2c3e1956d6c4d8877f2b243af411db1\r\n",
      "  Building wheel for pylatexenc (setup.py) ... \u001b[?25l-\b \b\\\b \bdone\r\n",
      "\u001b[?25h  Created wheel for pylatexenc: filename=pylatexenc-2.10-py3-none-any.whl size=136816 sha256=67add05f38a6b41eb78c33c0af57e1cc79bf4ab97a54d5e85b80b2ac62a528e9\r\n",
      "  Stored in directory: /root/.cache/pip/wheels/d3/31/8b/e09b0386afd80cfc556c00408c9aeea5c35c4d484a9c762fd5\r\n",
      "Successfully built chumpy pylatexenc\r\n",
      "Installing collected packages: rfc3986, pylatexenc, language-tags, dlinfo, rapidfuzz, loguru, isodate, bibtexparser, av, rdflib, jiwer, clldutils, chumpy, csvw, segments, phonemizer\r\n",
      "Successfully installed av-13.1.0 bibtexparser-2.0.0b7 chumpy-0.70 clldutils-3.23.1 csvw-3.5.1 dlinfo-1.2.1 isodate-0.7.2 jiwer-3.0.4 language-tags-1.2.0 loguru-0.7.2 phonemizer-3.3.0 pylatexenc-2.10 rapidfuzz-3.10.1 rdflib-7.1.1 rfc3986-1.5.0 segments-2.2.1\r\n",
      "Note: you may need to restart the kernel to use updated packages.\n"
     ]
    }
   ],
   "source": [
    "pip install scikit_image kornia chumpy librosa av loguru tensorboard pytorch_lightning opencv-python phonemizer jiwer"
   ]
  },
  {
   "cell_type": "code",
   "execution_count": 7,
   "id": "9a5e0b37",
   "metadata": {
    "execution": {
     "iopub.execute_input": "2024-10-28T22:18:41.306212Z",
     "iopub.status.busy": "2024-10-28T22:18:41.305869Z",
     "iopub.status.idle": "2024-10-28T22:18:59.179223Z",
     "shell.execute_reply": "2024-10-28T22:18:59.178153Z"
    },
    "papermill": {
     "duration": 17.904586,
     "end_time": "2024-10-28T22:18:59.181677",
     "exception": false,
     "start_time": "2024-10-28T22:18:41.277091",
     "status": "completed"
    },
    "tags": []
   },
   "outputs": [
    {
     "name": "stdout",
     "output_type": "stream",
     "text": [
      "Obtaining file:///kaggle/working/spectre/external/face_alignment\r\n",
      "  Preparing metadata (setup.py) ... \u001b[?25ldone\r\n",
      "\u001b[?25hRequirement already satisfied: numpy>=1.16.0 in /opt/conda/lib/python3.10/site-packages (from ibug_face_alignment==0.1.0) (1.26.4)\r\n",
      "Requirement already satisfied: torch>=1.1.0 in /opt/conda/lib/python3.10/site-packages (from ibug_face_alignment==0.1.0) (2.4.0)\r\n",
      "Requirement already satisfied: opencv-python>=3.4.2 in /opt/conda/lib/python3.10/site-packages (from ibug_face_alignment==0.1.0) (4.10.0.84)\r\n",
      "Requirement already satisfied: filelock in /opt/conda/lib/python3.10/site-packages (from torch>=1.1.0->ibug_face_alignment==0.1.0) (3.15.1)\r\n",
      "Requirement already satisfied: typing-extensions>=4.8.0 in /opt/conda/lib/python3.10/site-packages (from torch>=1.1.0->ibug_face_alignment==0.1.0) (4.12.2)\r\n",
      "Requirement already satisfied: sympy in /opt/conda/lib/python3.10/site-packages (from torch>=1.1.0->ibug_face_alignment==0.1.0) (1.13.3)\r\n",
      "Requirement already satisfied: networkx in /opt/conda/lib/python3.10/site-packages (from torch>=1.1.0->ibug_face_alignment==0.1.0) (3.3)\r\n",
      "Requirement already satisfied: jinja2 in /opt/conda/lib/python3.10/site-packages (from torch>=1.1.0->ibug_face_alignment==0.1.0) (3.1.4)\r\n",
      "Requirement already satisfied: fsspec in /opt/conda/lib/python3.10/site-packages (from torch>=1.1.0->ibug_face_alignment==0.1.0) (2024.6.1)\r\n",
      "Requirement already satisfied: MarkupSafe>=2.0 in /opt/conda/lib/python3.10/site-packages (from jinja2->torch>=1.1.0->ibug_face_alignment==0.1.0) (2.1.5)\r\n",
      "Requirement already satisfied: mpmath<1.4,>=1.1.0 in /opt/conda/lib/python3.10/site-packages (from sympy->torch>=1.1.0->ibug_face_alignment==0.1.0) (1.3.0)\r\n",
      "Installing collected packages: ibug_face_alignment\r\n",
      "  Running setup.py develop for ibug_face_alignment\r\n",
      "Successfully installed ibug_face_alignment-0.1.0\r\n"
     ]
    }
   ],
   "source": [
    "!cd /kaggle/working/spectre/external/face_alignment && pip install -e."
   ]
  },
  {
   "cell_type": "code",
   "execution_count": null,
   "id": "020cb7dc",
   "metadata": {
    "papermill": {
     "duration": 0.02797,
     "end_time": "2024-10-28T22:18:59.238661",
     "exception": false,
     "start_time": "2024-10-28T22:18:59.210691",
     "status": "completed"
    },
    "tags": []
   },
   "outputs": [],
   "source": []
  },
  {
   "cell_type": "code",
   "execution_count": 8,
   "id": "9e3cfc6b",
   "metadata": {
    "execution": {
     "iopub.execute_input": "2024-10-28T22:18:59.297223Z",
     "iopub.status.busy": "2024-10-28T22:18:59.296403Z",
     "iopub.status.idle": "2024-10-28T22:19:17.474173Z",
     "shell.execute_reply": "2024-10-28T22:19:17.473030Z"
    },
    "papermill": {
     "duration": 18.209692,
     "end_time": "2024-10-28T22:19:17.476666",
     "exception": false,
     "start_time": "2024-10-28T22:18:59.266974",
     "status": "completed"
    },
    "tags": []
   },
   "outputs": [
    {
     "name": "stdout",
     "output_type": "stream",
     "text": [
      "\r\n",
      "\r\n",
      "\r\n",
      "\r\n",
      "\r\n",
      "\r\n",
      "\r\n",
      "\r\n",
      "\r\n",
      "\r\n",
      "\r\n",
      "\r\n",
      "\r\n",
      "\r\n",
      "\r\n",
      "\r\n",
      "\r\n",
      "The following packages will be upgraded:\r\n",
      "  git-lfs\r\n",
      "1 upgraded, 0 newly installed, 0 to remove and 69 not upgraded.\r\n",
      "Need to get 7420 kB of archives.\r\n",
      "After this operation, 6051 kB of additional disk space will be used.\r\n",
      "Get:1 https://packagecloud.io/github/git-lfs/ubuntu jammy/main amd64 git-lfs amd64 3.5.1 [7420 kB]\r\n",
      "Fetched 7420 kB in 0s (24.2 MB/s)\r\n",
      "(Reading database ... 122996 files and directories currently installed.)\r\n",
      "Preparing to unpack .../git-lfs_3.5.1_amd64.deb ...\r\n",
      "Unpacking git-lfs (3.5.1) over (3.0.2-1ubuntu0.2) ...\r\n",
      "Setting up git-lfs (3.5.1) ...\r\n",
      "Git LFS initialized.\r\n",
      "Processing triggers for man-db (2.10.2-1) ...\r\n"
     ]
    }
   ],
   "source": [
    "!curl -s https://packagecloud.io/install/repositories/github/git-lfs/script.deb.sh | sudo bash\n",
    "!sudo apt-get install git-lfs"
   ]
  },
  {
   "cell_type": "code",
   "execution_count": 9,
   "id": "eafbf660",
   "metadata": {
    "execution": {
     "iopub.execute_input": "2024-10-28T22:19:17.538995Z",
     "iopub.status.busy": "2024-10-28T22:19:17.538653Z",
     "iopub.status.idle": "2024-10-28T22:19:34.659055Z",
     "shell.execute_reply": "2024-10-28T22:19:34.657961Z"
    },
    "papermill": {
     "duration": 17.153546,
     "end_time": "2024-10-28T22:19:34.661315",
     "exception": false,
     "start_time": "2024-10-28T22:19:17.507769",
     "status": "completed"
    },
    "tags": []
   },
   "outputs": [
    {
     "name": "stdout",
     "output_type": "stream",
     "text": [
      "Obtaining file:///kaggle/working/spectre/external/face_detection\r\n",
      "  Preparing metadata (setup.py) ... \u001b[?25ldone\r\n",
      "\u001b[?25hRequirement already satisfied: numpy>=1.16.0 in /opt/conda/lib/python3.10/site-packages (from ibug_face_detection==0.1.0) (1.26.4)\r\n",
      "Requirement already satisfied: scipy>=1.1.0 in /opt/conda/lib/python3.10/site-packages (from ibug_face_detection==0.1.0) (1.14.1)\r\n",
      "Requirement already satisfied: torch>=1.1.0 in /opt/conda/lib/python3.10/site-packages (from ibug_face_detection==0.1.0) (2.4.0)\r\n",
      "Requirement already satisfied: torchvision>=0.3.0 in /opt/conda/lib/python3.10/site-packages (from ibug_face_detection==0.1.0) (0.19.0)\r\n",
      "Requirement already satisfied: opencv-python>=3.4.2 in /opt/conda/lib/python3.10/site-packages (from ibug_face_detection==0.1.0) (4.10.0.84)\r\n",
      "Requirement already satisfied: filelock in /opt/conda/lib/python3.10/site-packages (from torch>=1.1.0->ibug_face_detection==0.1.0) (3.15.1)\r\n",
      "Requirement already satisfied: typing-extensions>=4.8.0 in /opt/conda/lib/python3.10/site-packages (from torch>=1.1.0->ibug_face_detection==0.1.0) (4.12.2)\r\n",
      "Requirement already satisfied: sympy in /opt/conda/lib/python3.10/site-packages (from torch>=1.1.0->ibug_face_detection==0.1.0) (1.13.3)\r\n",
      "Requirement already satisfied: networkx in /opt/conda/lib/python3.10/site-packages (from torch>=1.1.0->ibug_face_detection==0.1.0) (3.3)\r\n",
      "Requirement already satisfied: jinja2 in /opt/conda/lib/python3.10/site-packages (from torch>=1.1.0->ibug_face_detection==0.1.0) (3.1.4)\r\n",
      "Requirement already satisfied: fsspec in /opt/conda/lib/python3.10/site-packages (from torch>=1.1.0->ibug_face_detection==0.1.0) (2024.6.1)\r\n",
      "Requirement already satisfied: pillow!=8.3.*,>=5.3.0 in /opt/conda/lib/python3.10/site-packages (from torchvision>=0.3.0->ibug_face_detection==0.1.0) (10.3.0)\r\n",
      "Requirement already satisfied: MarkupSafe>=2.0 in /opt/conda/lib/python3.10/site-packages (from jinja2->torch>=1.1.0->ibug_face_detection==0.1.0) (2.1.5)\r\n",
      "Requirement already satisfied: mpmath<1.4,>=1.1.0 in /opt/conda/lib/python3.10/site-packages (from sympy->torch>=1.1.0->ibug_face_detection==0.1.0) (1.3.0)\r\n",
      "Installing collected packages: ibug_face_detection\r\n",
      "  Running setup.py develop for ibug_face_detection\r\n",
      "Successfully installed ibug_face_detection-0.1.0\r\n"
     ]
    }
   ],
   "source": [
    "!cd /kaggle/working/spectre/external/face_detection && git lfs pull && pip install -e ."
   ]
  },
  {
   "cell_type": "code",
   "execution_count": null,
   "id": "4bbbe955",
   "metadata": {
    "papermill": {
     "duration": 0.034615,
     "end_time": "2024-10-28T22:19:34.726908",
     "exception": false,
     "start_time": "2024-10-28T22:19:34.692293",
     "status": "completed"
    },
    "tags": []
   },
   "outputs": [],
   "source": []
  },
  {
   "cell_type": "code",
   "execution_count": 10,
   "id": "d9d0cc3f",
   "metadata": {
    "execution": {
     "iopub.execute_input": "2024-10-28T22:19:34.813199Z",
     "iopub.status.busy": "2024-10-28T22:19:34.812248Z",
     "iopub.status.idle": "2024-10-28T22:19:34.817252Z",
     "shell.execute_reply": "2024-10-28T22:19:34.816215Z"
    },
    "papermill": {
     "duration": 0.04995,
     "end_time": "2024-10-28T22:19:34.819208",
     "exception": false,
     "start_time": "2024-10-28T22:19:34.769258",
     "status": "completed"
    },
    "tags": []
   },
   "outputs": [],
   "source": [
    "# !git lfs pull"
   ]
  },
  {
   "cell_type": "code",
   "execution_count": 11,
   "id": "b7b9bfbb",
   "metadata": {
    "execution": {
     "iopub.execute_input": "2024-10-28T22:19:34.886320Z",
     "iopub.status.busy": "2024-10-28T22:19:34.885986Z",
     "iopub.status.idle": "2024-10-28T22:19:34.890601Z",
     "shell.execute_reply": "2024-10-28T22:19:34.889408Z"
    },
    "papermill": {
     "duration": 0.040124,
     "end_time": "2024-10-28T22:19:34.892652",
     "exception": false,
     "start_time": "2024-10-28T22:19:34.852528",
     "status": "completed"
    },
    "tags": []
   },
   "outputs": [],
   "source": [
    "# pip install -r requirements.txt"
   ]
  },
  {
   "cell_type": "code",
   "execution_count": null,
   "id": "fa602d2b",
   "metadata": {
    "papermill": {
     "duration": 0.031538,
     "end_time": "2024-10-28T22:19:34.955702",
     "exception": false,
     "start_time": "2024-10-28T22:19:34.924164",
     "status": "completed"
    },
    "tags": []
   },
   "outputs": [],
   "source": [
    "\n"
   ]
  },
  {
   "cell_type": "code",
   "execution_count": 12,
   "id": "527d039d",
   "metadata": {
    "execution": {
     "iopub.execute_input": "2024-10-28T22:19:35.028536Z",
     "iopub.status.busy": "2024-10-28T22:19:35.028147Z",
     "iopub.status.idle": "2024-10-28T22:19:48.106689Z",
     "shell.execute_reply": "2024-10-28T22:19:48.105627Z"
    },
    "papermill": {
     "duration": 13.113136,
     "end_time": "2024-10-28T22:19:48.109059",
     "exception": false,
     "start_time": "2024-10-28T22:19:34.995923",
     "status": "completed"
    },
    "tags": []
   },
   "outputs": [
    {
     "name": "stdout",
     "output_type": "stream",
     "text": [
      "Collecting gdown\r\n",
      "  Downloading gdown-5.2.0-py3-none-any.whl.metadata (5.8 kB)\r\n",
      "Requirement already satisfied: beautifulsoup4 in /opt/conda/lib/python3.10/site-packages (from gdown) (4.12.3)\r\n",
      "Requirement already satisfied: filelock in /opt/conda/lib/python3.10/site-packages (from gdown) (3.15.1)\r\n",
      "Requirement already satisfied: requests[socks] in /opt/conda/lib/python3.10/site-packages (from gdown) (2.32.3)\r\n",
      "Requirement already satisfied: tqdm in /opt/conda/lib/python3.10/site-packages (from gdown) (4.66.4)\r\n",
      "Requirement already satisfied: soupsieve>1.2 in /opt/conda/lib/python3.10/site-packages (from beautifulsoup4->gdown) (2.5)\r\n",
      "Requirement already satisfied: charset-normalizer<4,>=2 in /opt/conda/lib/python3.10/site-packages (from requests[socks]->gdown) (3.3.2)\r\n",
      "Requirement already satisfied: idna<4,>=2.5 in /opt/conda/lib/python3.10/site-packages (from requests[socks]->gdown) (3.7)\r\n",
      "Requirement already satisfied: urllib3<3,>=1.21.1 in /opt/conda/lib/python3.10/site-packages (from requests[socks]->gdown) (1.26.18)\r\n",
      "Requirement already satisfied: certifi>=2017.4.17 in /opt/conda/lib/python3.10/site-packages (from requests[socks]->gdown) (2024.8.30)\r\n",
      "Requirement already satisfied: PySocks!=1.5.7,>=1.5.6 in /opt/conda/lib/python3.10/site-packages (from requests[socks]->gdown) (1.7.1)\r\n",
      "Downloading gdown-5.2.0-py3-none-any.whl (18 kB)\r\n",
      "Installing collected packages: gdown\r\n",
      "Successfully installed gdown-5.2.0\r\n",
      "/kaggle/working/spectre\r\n"
     ]
    }
   ],
   "source": [
    "\n",
    "!pip install gdown\n",
    "!pwd"
   ]
  },
  {
   "cell_type": "code",
   "execution_count": 13,
   "id": "f8afb453",
   "metadata": {
    "execution": {
     "iopub.execute_input": "2024-10-28T22:19:48.173936Z",
     "iopub.status.busy": "2024-10-28T22:19:48.173597Z",
     "iopub.status.idle": "2024-10-28T22:19:48.179725Z",
     "shell.execute_reply": "2024-10-28T22:19:48.178814Z"
    },
    "papermill": {
     "duration": 0.040803,
     "end_time": "2024-10-28T22:19:48.181725",
     "exception": false,
     "start_time": "2024-10-28T22:19:48.140922",
     "status": "completed"
    },
    "tags": []
   },
   "outputs": [
    {
     "name": "stdout",
     "output_type": "stream",
     "text": [
      "/kaggle\n"
     ]
    }
   ],
   "source": [
    "cd ../../"
   ]
  },
  {
   "cell_type": "code",
   "execution_count": 14,
   "id": "4d23d443",
   "metadata": {
    "execution": {
     "iopub.execute_input": "2024-10-28T22:19:48.262200Z",
     "iopub.status.busy": "2024-10-28T22:19:48.261294Z",
     "iopub.status.idle": "2024-10-28T22:19:49.264465Z",
     "shell.execute_reply": "2024-10-28T22:19:49.263512Z"
    },
    "papermill": {
     "duration": 1.049763,
     "end_time": "2024-10-28T22:19:49.266758",
     "exception": false,
     "start_time": "2024-10-28T22:19:48.216995",
     "status": "completed"
    },
    "tags": []
   },
   "outputs": [
    {
     "name": "stdout",
     "output_type": "stream",
     "text": [
      "fatal: not a git repository (or any of the parent directories): .git\r\n"
     ]
    }
   ],
   "source": [
    "!git pull"
   ]
  },
  {
   "cell_type": "code",
   "execution_count": 15,
   "id": "dd4761fa",
   "metadata": {
    "execution": {
     "iopub.execute_input": "2024-10-28T22:19:49.334694Z",
     "iopub.status.busy": "2024-10-28T22:19:49.334273Z",
     "iopub.status.idle": "2024-10-28T22:19:50.330480Z",
     "shell.execute_reply": "2024-10-28T22:19:50.329309Z"
    },
    "papermill": {
     "duration": 1.032102,
     "end_time": "2024-10-28T22:19:50.332856",
     "exception": false,
     "start_time": "2024-10-28T22:19:49.300754",
     "status": "completed"
    },
    "tags": []
   },
   "outputs": [
    {
     "name": "stdout",
     "output_type": "stream",
     "text": [
      "bash: quick_install.sh: No such file or directory\r\n"
     ]
    }
   ],
   "source": [
    "!bash quick_install.sh \"niwantsalunke308@gmail.com\" \"Bat#ball123\" "
   ]
  },
  {
   "cell_type": "code",
   "execution_count": 16,
   "id": "8506411e",
   "metadata": {
    "execution": {
     "iopub.execute_input": "2024-10-28T22:19:50.398878Z",
     "iopub.status.busy": "2024-10-28T22:19:50.398509Z",
     "iopub.status.idle": "2024-10-28T22:20:06.879990Z",
     "shell.execute_reply": "2024-10-28T22:20:06.878612Z"
    },
    "papermill": {
     "duration": 16.516782,
     "end_time": "2024-10-28T22:20:06.882306",
     "exception": false,
     "start_time": "2024-10-28T22:19:50.365524",
     "status": "completed"
    },
    "tags": []
   },
   "outputs": [
    {
     "name": "stdout",
     "output_type": "stream",
     "text": [
      "Requirement already satisfied: yacs in /opt/conda/lib/python3.10/site-packages (0.1.8)\r\n",
      "Collecting numpy==1.23.5\r\n",
      "  Downloading numpy-1.23.5-cp310-cp310-manylinux_2_17_x86_64.manylinux2014_x86_64.whl.metadata (2.3 kB)\r\n",
      "Requirement already satisfied: PyYAML in /opt/conda/lib/python3.10/site-packages (from yacs) (6.0.2)\r\n",
      "Downloading numpy-1.23.5-cp310-cp310-manylinux_2_17_x86_64.manylinux2014_x86_64.whl (17.1 MB)\r\n",
      "\u001b[2K   \u001b[90m━━━━━━━━━━━━━━━━━━━━━━━━━━━━━━━━━━━━━━━━\u001b[0m \u001b[32m17.1/17.1 MB\u001b[0m \u001b[31m81.1 MB/s\u001b[0m eta \u001b[36m0:00:00\u001b[0m\r\n",
      "\u001b[?25hInstalling collected packages: numpy\r\n",
      "  Attempting uninstall: numpy\r\n",
      "    Found existing installation: numpy 1.26.4\r\n",
      "    Uninstalling numpy-1.26.4:\r\n",
      "      Successfully uninstalled numpy-1.26.4\r\n",
      "\u001b[31mERROR: pip's dependency resolver does not currently take into account all the packages that are installed. This behaviour is the source of the following dependency conflicts.\r\n",
      "cudf 24.8.3 requires cubinlinker, which is not installed.\r\n",
      "cudf 24.8.3 requires cupy-cuda11x>=12.0.0, which is not installed.\r\n",
      "cudf 24.8.3 requires ptxcompiler, which is not installed.\r\n",
      "cuml 24.8.0 requires cupy-cuda11x>=12.0.0, which is not installed.\r\n",
      "dask-cudf 24.8.3 requires cupy-cuda11x>=12.0.0, which is not installed.\r\n",
      "ucxx 0.39.1 requires libucx>=1.15.0, which is not installed.\r\n",
      "albucore 0.0.17 requires numpy>=1.24, but you have numpy 1.23.5 which is incompatible.\r\n",
      "albumentations 1.4.17 requires numpy>=1.24.4, but you have numpy 1.23.5 which is incompatible.\r\n",
      "apache-beam 2.46.0 requires cloudpickle~=2.2.1, but you have cloudpickle 3.0.0 which is incompatible.\r\n",
      "apache-beam 2.46.0 requires dill<0.3.2,>=0.3.1.1, but you have dill 0.3.8 which is incompatible.\r\n",
      "apache-beam 2.46.0 requires pyarrow<10.0.0,>=3.0.0, but you have pyarrow 16.1.0 which is incompatible.\r\n",
      "bayesian-optimization 1.5.1 requires numpy>=1.25, but you have numpy 1.23.5 which is incompatible.\r\n",
      "cesium 0.12.3 requires numpy<3.0,>=2.0, but you have numpy 1.23.5 which is incompatible.\r\n",
      "chex 0.1.86 requires numpy>=1.24.1, but you have numpy 1.23.5 which is incompatible.\r\n",
      "cudf 24.8.3 requires cuda-python<12.0a0,>=11.7.1, but you have cuda-python 12.6.0 which is incompatible.\r\n",
      "featuretools 1.31.0 requires numpy>=1.25.0, but you have numpy 1.23.5 which is incompatible.\r\n",
      "gensim 4.3.3 requires scipy<1.14.0,>=1.7.0, but you have scipy 1.14.1 which is incompatible.\r\n",
      "ibis-framework 7.1.0 requires pyarrow<15,>=2, but you have pyarrow 16.1.0 which is incompatible.\r\n",
      "libpysal 4.9.2 requires packaging>=22, but you have packaging 21.3 which is incompatible.\r\n",
      "libpysal 4.9.2 requires shapely>=2.0.1, but you have shapely 1.8.5.post1 which is incompatible.\r\n",
      "pyldavis 3.4.1 requires numpy>=1.24.2, but you have numpy 1.23.5 which is incompatible.\r\n",
      "rmm 24.8.2 requires cuda-python<12.0a0,>=11.7.1, but you have cuda-python 12.6.0 which is incompatible.\r\n",
      "woodwork 0.31.0 requires numpy>=1.25.0, but you have numpy 1.23.5 which is incompatible.\r\n",
      "xarray 2024.9.0 requires numpy>=1.24, but you have numpy 1.23.5 which is incompatible.\r\n",
      "xarray 2024.9.0 requires packaging>=23.1, but you have packaging 21.3 which is incompatible.\r\n",
      "ydata-profiling 4.10.0 requires scipy<1.14,>=1.4.1, but you have scipy 1.14.1 which is incompatible.\u001b[0m\u001b[31m\r\n",
      "\u001b[0mSuccessfully installed numpy-1.23.5\r\n",
      "Note: you may need to restart the kernel to use updated packages.\n"
     ]
    }
   ],
   "source": [
    "pip install yacs numpy==1.23.5"
   ]
  },
  {
   "cell_type": "code",
   "execution_count": 17,
   "id": "1a61d676",
   "metadata": {
    "execution": {
     "iopub.execute_input": "2024-10-28T22:20:06.951841Z",
     "iopub.status.busy": "2024-10-28T22:20:06.951456Z",
     "iopub.status.idle": "2024-10-28T22:20:08.041048Z",
     "shell.execute_reply": "2024-10-28T22:20:08.039839Z"
    },
    "papermill": {
     "duration": 1.128023,
     "end_time": "2024-10-28T22:20:08.044140",
     "exception": false,
     "start_time": "2024-10-28T22:20:06.916117",
     "status": "completed"
    },
    "tags": []
   },
   "outputs": [
    {
     "name": "stdout",
     "output_type": "stream",
     "text": [
      "python: can't open file '/kaggle/demo.py': [Errno 2] No such file or directory\r\n"
     ]
    }
   ],
   "source": [
    "!python demo.py --input samples/LRS3/PbgB2TaYhio_00007.mp4 "
   ]
  },
  {
   "cell_type": "code",
   "execution_count": null,
   "id": "2266cf24",
   "metadata": {
    "papermill": {
     "duration": 0.033743,
     "end_time": "2024-10-28T22:20:08.112399",
     "exception": false,
     "start_time": "2024-10-28T22:20:08.078656",
     "status": "completed"
    },
    "tags": []
   },
   "outputs": [],
   "source": []
  },
  {
   "cell_type": "code",
   "execution_count": 18,
   "id": "e2f424e1",
   "metadata": {
    "execution": {
     "iopub.execute_input": "2024-10-28T22:20:08.182427Z",
     "iopub.status.busy": "2024-10-28T22:20:08.181608Z",
     "iopub.status.idle": "2024-10-28T22:20:08.186276Z",
     "shell.execute_reply": "2024-10-28T22:20:08.185448Z"
    },
    "papermill": {
     "duration": 0.041765,
     "end_time": "2024-10-28T22:20:08.188293",
     "exception": false,
     "start_time": "2024-10-28T22:20:08.146528",
     "status": "completed"
    },
    "tags": []
   },
   "outputs": [],
   "source": [
    "# import sys\n",
    "# import torch\n",
    "# pyt_version_str=torch.__version__.split(\"+\")[0].replace(\".\", \"\")\n",
    "# version_str=\"\".join([\n",
    "#     f\"py3{sys.version_info.minor}_cu\",\n",
    "#     torch.version.cuda.replace(\".\",\"\"),\n",
    "#     f\"_pyt{pyt_version_str}\"\n",
    "# ])\n",
    "# !pip install iopath\n",
    "# !pip install --no-index --no-cache-dir pytorch3d -f https://dl.fbaipublicfiles.com/pytorch3d/packaging/wheels/{version_str}/download.html"
   ]
  },
  {
   "cell_type": "code",
   "execution_count": 19,
   "id": "09519e73",
   "metadata": {
    "execution": {
     "iopub.execute_input": "2024-10-28T22:20:08.276405Z",
     "iopub.status.busy": "2024-10-28T22:20:08.276017Z",
     "iopub.status.idle": "2024-10-28T22:20:08.280575Z",
     "shell.execute_reply": "2024-10-28T22:20:08.279649Z"
    },
    "papermill": {
     "duration": 0.054385,
     "end_time": "2024-10-28T22:20:08.282566",
     "exception": false,
     "start_time": "2024-10-28T22:20:08.228181",
     "status": "completed"
    },
    "tags": []
   },
   "outputs": [],
   "source": [
    "# cd /kaggle/working/spectre/external/Visual_Speech_Recognition_for_Multiple_Languages"
   ]
  },
  {
   "cell_type": "code",
   "execution_count": 20,
   "id": "81ec2635",
   "metadata": {
    "execution": {
     "iopub.execute_input": "2024-10-28T22:20:08.351458Z",
     "iopub.status.busy": "2024-10-28T22:20:08.350822Z",
     "iopub.status.idle": "2024-10-28T22:20:08.354955Z",
     "shell.execute_reply": "2024-10-28T22:20:08.354070Z"
    },
    "papermill": {
     "duration": 0.041167,
     "end_time": "2024-10-28T22:20:08.357380",
     "exception": false,
     "start_time": "2024-10-28T22:20:08.316213",
     "status": "completed"
    },
    "tags": []
   },
   "outputs": [],
   "source": [
    "# !pip install -r requirements.txt"
   ]
  },
  {
   "cell_type": "code",
   "execution_count": 21,
   "id": "5466cea8",
   "metadata": {
    "execution": {
     "iopub.execute_input": "2024-10-28T22:20:08.426345Z",
     "iopub.status.busy": "2024-10-28T22:20:08.426052Z",
     "iopub.status.idle": "2024-10-28T22:20:08.429885Z",
     "shell.execute_reply": "2024-10-28T22:20:08.429064Z"
    },
    "papermill": {
     "duration": 0.039844,
     "end_time": "2024-10-28T22:20:08.431701",
     "exception": false,
     "start_time": "2024-10-28T22:20:08.391857",
     "status": "completed"
    },
    "tags": []
   },
   "outputs": [],
   "source": [
    "# cd ../../"
   ]
  },
  {
   "cell_type": "code",
   "execution_count": null,
   "id": "688d7c9a",
   "metadata": {
    "papermill": {
     "duration": 0.032943,
     "end_time": "2024-10-28T22:20:08.498479",
     "exception": false,
     "start_time": "2024-10-28T22:20:08.465536",
     "status": "completed"
    },
    "tags": []
   },
   "outputs": [],
   "source": []
  }
 ],
 "metadata": {
  "kaggle": {
   "accelerator": "nvidiaTeslaT4",
   "dataSources": [
    {
     "isSourceIdPinned": true,
     "modelId": 131529,
     "modelInstanceId": 107182,
     "sourceId": 127302,
     "sourceType": "modelInstanceVersion"
    }
   ],
   "isGpuEnabled": true,
   "isInternetEnabled": true,
   "language": "python",
   "sourceType": "notebook"
  },
  "kernelspec": {
   "display_name": "Python 3 (ipykernel)",
   "language": "python",
   "name": "python3"
  },
  "language_info": {
   "codemirror_mode": {
    "name": "ipython",
    "version": 3
   },
   "file_extension": ".py",
   "mimetype": "text/x-python",
   "name": "python",
   "nbconvert_exporter": "python",
   "pygments_lexer": "ipython3",
   "version": "3.9.12"
  },
  "papermill": {
   "default_parameters": {},
   "duration": 827.033771,
   "end_time": "2024-10-28T22:20:08.851257",
   "environment_variables": {},
   "exception": null,
   "input_path": "__notebook__.ipynb",
   "output_path": "__notebook__.ipynb",
   "parameters": {},
   "start_time": "2024-10-28T22:06:21.817486",
   "version": "2.6.0"
  }
 },
 "nbformat": 4,
 "nbformat_minor": 5
}
